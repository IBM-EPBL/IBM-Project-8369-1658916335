{
 "cells": [
  {
   "cell_type": "code",
   "execution_count": 1,
   "id": "d484fe17",
   "metadata": {},
   "outputs": [],
   "source": [
    "import pandas as pd\n",
    "import numpy as np\n",
    "\n",
    "df = pd.read_csv('D:dataset/loan_credibility_data.csv')\n"
   ]
  },
  {
   "cell_type": "code",
   "execution_count": 2,
   "id": "52964065",
   "metadata": {},
   "outputs": [
    {
     "data": {
      "text/html": [
       "<div>\n",
       "<style scoped>\n",
       "    .dataframe tbody tr th:only-of-type {\n",
       "        vertical-align: middle;\n",
       "    }\n",
       "\n",
       "    .dataframe tbody tr th {\n",
       "        vertical-align: top;\n",
       "    }\n",
       "\n",
       "    .dataframe thead th {\n",
       "        text-align: right;\n",
       "    }\n",
       "</style>\n",
       "<table border=\"1\" class=\"dataframe\">\n",
       "  <thead>\n",
       "    <tr style=\"text-align: right;\">\n",
       "      <th></th>\n",
       "      <th>Unnamed: 0</th>\n",
       "      <th>Id</th>\n",
       "      <th>income</th>\n",
       "      <th>age</th>\n",
       "      <th>experience</th>\n",
       "      <th>married</th>\n",
       "      <th>house_ownership</th>\n",
       "      <th>car_ownership</th>\n",
       "      <th>profession</th>\n",
       "      <th>city</th>\n",
       "      <th>state</th>\n",
       "      <th>current_job_years</th>\n",
       "      <th>current_house_years</th>\n",
       "      <th>risk_flag</th>\n",
       "    </tr>\n",
       "  </thead>\n",
       "  <tbody>\n",
       "    <tr>\n",
       "      <th>0</th>\n",
       "      <td>145758</td>\n",
       "      <td>145759</td>\n",
       "      <td>9961107</td>\n",
       "      <td>33</td>\n",
       "      <td>15</td>\n",
       "      <td>single</td>\n",
       "      <td>rented</td>\n",
       "      <td>yes</td>\n",
       "      <td>Surveyor</td>\n",
       "      <td>Karimnagar</td>\n",
       "      <td>Telangana</td>\n",
       "      <td>11</td>\n",
       "      <td>14</td>\n",
       "      <td>0</td>\n",
       "    </tr>\n",
       "    <tr>\n",
       "      <th>1</th>\n",
       "      <td>133647</td>\n",
       "      <td>133648</td>\n",
       "      <td>4098399</td>\n",
       "      <td>79</td>\n",
       "      <td>15</td>\n",
       "      <td>single</td>\n",
       "      <td>rented</td>\n",
       "      <td>no</td>\n",
       "      <td>Computer_hardware_engineer</td>\n",
       "      <td>Aurangabad</td>\n",
       "      <td>Maharashtra</td>\n",
       "      <td>10</td>\n",
       "      <td>12</td>\n",
       "      <td>0</td>\n",
       "    </tr>\n",
       "    <tr>\n",
       "      <th>2</th>\n",
       "      <td>70149</td>\n",
       "      <td>70150</td>\n",
       "      <td>990478</td>\n",
       "      <td>26</td>\n",
       "      <td>15</td>\n",
       "      <td>single</td>\n",
       "      <td>norent_noown</td>\n",
       "      <td>no</td>\n",
       "      <td>Geologist</td>\n",
       "      <td>Ahmednagar</td>\n",
       "      <td>Maharashtra</td>\n",
       "      <td>5</td>\n",
       "      <td>13</td>\n",
       "      <td>0</td>\n",
       "    </tr>\n",
       "    <tr>\n",
       "      <th>3</th>\n",
       "      <td>193036</td>\n",
       "      <td>193037</td>\n",
       "      <td>9571049</td>\n",
       "      <td>43</td>\n",
       "      <td>8</td>\n",
       "      <td>single</td>\n",
       "      <td>rented</td>\n",
       "      <td>yes</td>\n",
       "      <td>Librarian</td>\n",
       "      <td>Bally</td>\n",
       "      <td>West_Bengal</td>\n",
       "      <td>8</td>\n",
       "      <td>11</td>\n",
       "      <td>0</td>\n",
       "    </tr>\n",
       "    <tr>\n",
       "      <th>4</th>\n",
       "      <td>45984</td>\n",
       "      <td>45985</td>\n",
       "      <td>7790773</td>\n",
       "      <td>40</td>\n",
       "      <td>10</td>\n",
       "      <td>married</td>\n",
       "      <td>rented</td>\n",
       "      <td>yes</td>\n",
       "      <td>Software_Developer</td>\n",
       "      <td>Bahraich</td>\n",
       "      <td>Uttar_Pradesh</td>\n",
       "      <td>9</td>\n",
       "      <td>12</td>\n",
       "      <td>1</td>\n",
       "    </tr>\n",
       "  </tbody>\n",
       "</table>\n",
       "</div>"
      ],
      "text/plain": [
       "   Unnamed: 0      Id   income  age  experience  married house_ownership  \\\n",
       "0      145758  145759  9961107   33          15   single          rented   \n",
       "1      133647  133648  4098399   79          15   single          rented   \n",
       "2       70149   70150   990478   26          15   single    norent_noown   \n",
       "3      193036  193037  9571049   43           8   single          rented   \n",
       "4       45984   45985  7790773   40          10  married          rented   \n",
       "\n",
       "  car_ownership                  profession        city          state  \\\n",
       "0           yes                    Surveyor  Karimnagar      Telangana   \n",
       "1            no  Computer_hardware_engineer  Aurangabad    Maharashtra   \n",
       "2            no                   Geologist  Ahmednagar    Maharashtra   \n",
       "3           yes                   Librarian       Bally    West_Bengal   \n",
       "4           yes          Software_Developer    Bahraich  Uttar_Pradesh   \n",
       "\n",
       "   current_job_years  current_house_years  risk_flag  \n",
       "0                 11                   14          0  \n",
       "1                 10                   12          0  \n",
       "2                  5                   13          0  \n",
       "3                  8                   11          0  \n",
       "4                  9                   12          1  "
      ]
     },
     "execution_count": 2,
     "metadata": {},
     "output_type": "execute_result"
    }
   ],
   "source": [
    "df.head()"
   ]
  },
  {
   "cell_type": "code",
   "execution_count": 3,
   "id": "69f6ab5e",
   "metadata": {},
   "outputs": [
    {
     "name": "stdout",
     "output_type": "stream",
     "text": [
      "<class 'pandas.core.frame.DataFrame'>\n",
      "RangeIndex: 20000 entries, 0 to 19999\n",
      "Data columns (total 14 columns):\n",
      " #   Column               Non-Null Count  Dtype \n",
      "---  ------               --------------  ----- \n",
      " 0   Unnamed: 0           20000 non-null  int64 \n",
      " 1   Id                   20000 non-null  int64 \n",
      " 2   income               20000 non-null  int64 \n",
      " 3   age                  20000 non-null  int64 \n",
      " 4   experience           20000 non-null  int64 \n",
      " 5   married              20000 non-null  object\n",
      " 6   house_ownership      20000 non-null  object\n",
      " 7   car_ownership        20000 non-null  object\n",
      " 8   profession           20000 non-null  object\n",
      " 9   city                 20000 non-null  object\n",
      " 10  state                20000 non-null  object\n",
      " 11  current_job_years    20000 non-null  int64 \n",
      " 12  current_house_years  20000 non-null  int64 \n",
      " 13  risk_flag            20000 non-null  int64 \n",
      "dtypes: int64(8), object(6)\n",
      "memory usage: 2.1+ MB\n"
     ]
    }
   ],
   "source": [
    "df.info()"
   ]
  },
  {
   "cell_type": "code",
   "execution_count": 4,
   "id": "095e2d0f",
   "metadata": {},
   "outputs": [
    {
     "data": {
      "text/plain": [
       "Unnamed: 0             0\n",
       "Id                     0\n",
       "income                 0\n",
       "age                    0\n",
       "experience             0\n",
       "married                0\n",
       "house_ownership        0\n",
       "car_ownership          0\n",
       "profession             0\n",
       "city                   0\n",
       "state                  0\n",
       "current_job_years      0\n",
       "current_house_years    0\n",
       "risk_flag              0\n",
       "dtype: int64"
      ]
     },
     "execution_count": 4,
     "metadata": {},
     "output_type": "execute_result"
    }
   ],
   "source": [
    "df.isnull().sum()"
   ]
  },
  {
   "cell_type": "code",
   "execution_count": 5,
   "id": "59f1234f",
   "metadata": {},
   "outputs": [
    {
     "data": {
      "text/plain": [
       "0"
      ]
     },
     "execution_count": 5,
     "metadata": {},
     "output_type": "execute_result"
    }
   ],
   "source": [
    "(df.drop(columns=\"Id\")).duplicated().sum()"
   ]
  },
  {
   "cell_type": "code",
   "execution_count": 6,
   "id": "04c751dd",
   "metadata": {},
   "outputs": [
    {
     "data": {
      "text/html": [
       "<div>\n",
       "<style scoped>\n",
       "    .dataframe tbody tr th:only-of-type {\n",
       "        vertical-align: middle;\n",
       "    }\n",
       "\n",
       "    .dataframe tbody tr th {\n",
       "        vertical-align: top;\n",
       "    }\n",
       "\n",
       "    .dataframe thead th {\n",
       "        text-align: right;\n",
       "    }\n",
       "</style>\n",
       "<table border=\"1\" class=\"dataframe\">\n",
       "  <thead>\n",
       "    <tr style=\"text-align: right;\">\n",
       "      <th></th>\n",
       "      <th>income</th>\n",
       "      <th>age</th>\n",
       "      <th>experience</th>\n",
       "      <th>married</th>\n",
       "      <th>house_ownership</th>\n",
       "      <th>car_ownership</th>\n",
       "      <th>profession</th>\n",
       "      <th>current_job_years</th>\n",
       "      <th>current_house_years</th>\n",
       "      <th>risk_flag</th>\n",
       "    </tr>\n",
       "  </thead>\n",
       "  <tbody>\n",
       "    <tr>\n",
       "      <th>0</th>\n",
       "      <td>9961107</td>\n",
       "      <td>33</td>\n",
       "      <td>15</td>\n",
       "      <td>single</td>\n",
       "      <td>rented</td>\n",
       "      <td>yes</td>\n",
       "      <td>Surveyor</td>\n",
       "      <td>11</td>\n",
       "      <td>14</td>\n",
       "      <td>0</td>\n",
       "    </tr>\n",
       "    <tr>\n",
       "      <th>1</th>\n",
       "      <td>4098399</td>\n",
       "      <td>79</td>\n",
       "      <td>15</td>\n",
       "      <td>single</td>\n",
       "      <td>rented</td>\n",
       "      <td>no</td>\n",
       "      <td>Computer_hardware_engineer</td>\n",
       "      <td>10</td>\n",
       "      <td>12</td>\n",
       "      <td>0</td>\n",
       "    </tr>\n",
       "    <tr>\n",
       "      <th>2</th>\n",
       "      <td>990478</td>\n",
       "      <td>26</td>\n",
       "      <td>15</td>\n",
       "      <td>single</td>\n",
       "      <td>norent_noown</td>\n",
       "      <td>no</td>\n",
       "      <td>Geologist</td>\n",
       "      <td>5</td>\n",
       "      <td>13</td>\n",
       "      <td>0</td>\n",
       "    </tr>\n",
       "    <tr>\n",
       "      <th>3</th>\n",
       "      <td>9571049</td>\n",
       "      <td>43</td>\n",
       "      <td>8</td>\n",
       "      <td>single</td>\n",
       "      <td>rented</td>\n",
       "      <td>yes</td>\n",
       "      <td>Librarian</td>\n",
       "      <td>8</td>\n",
       "      <td>11</td>\n",
       "      <td>0</td>\n",
       "    </tr>\n",
       "    <tr>\n",
       "      <th>4</th>\n",
       "      <td>7790773</td>\n",
       "      <td>40</td>\n",
       "      <td>10</td>\n",
       "      <td>married</td>\n",
       "      <td>rented</td>\n",
       "      <td>yes</td>\n",
       "      <td>Software_Developer</td>\n",
       "      <td>9</td>\n",
       "      <td>12</td>\n",
       "      <td>1</td>\n",
       "    </tr>\n",
       "  </tbody>\n",
       "</table>\n",
       "</div>"
      ],
      "text/plain": [
       "    income  age  experience  married house_ownership car_ownership  \\\n",
       "0  9961107   33          15   single          rented           yes   \n",
       "1  4098399   79          15   single          rented            no   \n",
       "2   990478   26          15   single    norent_noown            no   \n",
       "3  9571049   43           8   single          rented           yes   \n",
       "4  7790773   40          10  married          rented           yes   \n",
       "\n",
       "                   profession  current_job_years  current_house_years  \\\n",
       "0                    Surveyor                 11                   14   \n",
       "1  Computer_hardware_engineer                 10                   12   \n",
       "2                   Geologist                  5                   13   \n",
       "3                   Librarian                  8                   11   \n",
       "4          Software_Developer                  9                   12   \n",
       "\n",
       "   risk_flag  \n",
       "0          0  \n",
       "1          0  \n",
       "2          0  \n",
       "3          0  \n",
       "4          1  "
      ]
     },
     "execution_count": 6,
     "metadata": {},
     "output_type": "execute_result"
    }
   ],
   "source": [
    "df=df.drop(columns=[\"Unnamed: 0\",\"Id\",\"state\",\"city\"])\n",
    "df.head()"
   ]
  },
  {
   "cell_type": "code",
   "execution_count": 7,
   "id": "c7fdd47e",
   "metadata": {},
   "outputs": [
    {
     "name": "stdout",
     "output_type": "stream",
     "text": [
      "[9961107 4098399  990478 ... 9584983 9878857 4683990]\n",
      "[33 79 26 43 40 45 25 32 29 38 75 72 71 58 63 54 28 47 73 66 62 76 46 64\n",
      " 61 65 55 39 69 74 24 70 59 67 21 51 56 22 48 78 30 57 53 68 37 50 27 77\n",
      " 36 23 34 44 52 49 60 35 41 31 42]\n",
      "[15  8 10 18 11  9  4  5 14 13 17  7 12 19  3  0  6  1  2 16 20]\n",
      "['single' 'married']\n",
      "['rented' 'norent_noown' 'owned']\n",
      "['yes' 'no']\n",
      "['Surveyor' 'Computer_hardware_engineer' 'Geologist' 'Librarian'\n",
      " 'Software_Developer' 'Statistician' 'Civil_servant' 'Politician'\n",
      " 'Secretary' 'Aviator' 'Comedian' 'Artist' 'Web_designer'\n",
      " 'Chartered_Accountant' 'Graphic_Designer' 'Petroleum_Engineer' 'Analyst'\n",
      " 'Psychologist' 'Magistrate' 'Chemical_engineer' 'Civil_engineer'\n",
      " 'Economist' 'Drafter' 'Engineer' 'Financial_Analyst' 'Flight_attendant'\n",
      " 'Computer_operator' 'Architect' 'Technical_writer' 'Designer'\n",
      " 'Industrial_Engineer' 'Dentist' 'Technician' 'Design_Engineer'\n",
      " 'Physician' 'Official' 'Army_officer' 'Police_officer' 'Surgeon'\n",
      " 'Air_traffic_controller' 'Mechanical_engineer' 'Biomedical_Engineer'\n",
      " 'Scientist' 'Microbiologist' 'Lawyer' 'Chef' 'Fashion_Designer'\n",
      " 'Consultant' 'Technology_specialist' 'Hotel_Manager' 'Firefighter']\n",
      "[11 10  5  8  9 14  4  3 13  7  6 12  0  1  2]\n",
      "[14 12 13 11 10]\n",
      "[0 1]\n"
     ]
    }
   ],
   "source": [
    "for i in df.columns:\n",
    "    print(df[i].unique())"
   ]
  },
  {
   "cell_type": "code",
   "execution_count": 8,
   "id": "980ab8e6",
   "metadata": {},
   "outputs": [
    {
     "data": {
      "text/plain": [
       "0    17530\n",
       "1     2470\n",
       "Name: risk_flag, dtype: int64"
      ]
     },
     "execution_count": 8,
     "metadata": {},
     "output_type": "execute_result"
    }
   ],
   "source": [
    "df[\"risk_flag\"].value_counts()"
   ]
  },
  {
   "cell_type": "code",
   "execution_count": 9,
   "id": "9029a436",
   "metadata": {},
   "outputs": [],
   "source": [
    "df[\"married\"].replace({'single':0,\"married\":1},inplace=True)\n",
    "df[\"car_ownership\"].replace({'no':0,\"yes\":1},inplace=True)\n",
    "df[\"house_ownership\"].replace({'norent_noown':0,\"rented\":1,\"owned\":2},inplace=True)"
   ]
  },
  {
   "cell_type": "code",
   "execution_count": 10,
   "id": "8828e96d",
   "metadata": {},
   "outputs": [],
   "source": [
    "cs=[\"Computer_hardware_engineer\",\"Software_Developer\",\"Web_designer\",\"Computer_operator\"]\n",
    "eng=[\"Petroleum_Engineer\",\"Chemical_engineer\",\"Civil_engineer\",\"Engineer\",\"Design_Engineer\",\"Industrial_Engineer\",\"Mechanical_engineer\",\"Biomedical_Engineer\"]\n",
    "med=[\"Psychologist\",\"Dentist\",\"Surgeon\",\"Physician\",\"Microbiologist\"]\n",
    "sol=[\"Aviator\",\"Police_officer\",\"Firefighter\",\"Air_traffic_controller\",\"Army_officer\"]\n",
    "eco=[\"Chartered_Accountant\",\"Analyst\",\"Financial_Analyst\",\"Consultant\",\"Statistician\",\"Economist\"]\n",
    "art=[\"Artist\",\"Graphic_Designer\",\"Drafter\",\"Architect\",\"Designer\",\"Fashion_Designer\"]\n",
    "govt=[\"Secretary\",\"Surveyor\",\"Magistrate\",\"Civil_servant\",\"Lawyer\",\"Official\",\"Scientist\"]\n",
    "others=[\"Librarian\",\"Politician\",\"Geologist\",\"Comedian\",\"Flight_attendant\",\"Technical_writer\",\"Technician\",\"Chef\",\"Technology_specialist\",\"Hotel_Manager\"]\n"
   ]
  },
  {
   "cell_type": "code",
   "execution_count": 11,
   "id": "d1f27409",
   "metadata": {},
   "outputs": [
    {
     "data": {
      "text/plain": [
       "(51,)"
      ]
     },
     "execution_count": 11,
     "metadata": {},
     "output_type": "execute_result"
    }
   ],
   "source": [
    "df[\"profession\"].unique().shape"
   ]
  },
  {
   "cell_type": "code",
   "execution_count": 12,
   "id": "1ade501c",
   "metadata": {},
   "outputs": [
    {
     "data": {
      "text/plain": [
       "51"
      ]
     },
     "execution_count": 12,
     "metadata": {},
     "output_type": "execute_result"
    }
   ],
   "source": [
    "len(cs)+len(eng)+len(med)+len(sol)+len(eco)+len(art)+len(govt)+len(others)"
   ]
  },
  {
   "cell_type": "code",
   "execution_count": 13,
   "id": "2f248cc1",
   "metadata": {},
   "outputs": [],
   "source": [
    "df[\"computer_science\"]=np.where(df[\"profession\"].isin(cs),1,0 )\n",
    "df[\"Engineering\"]=np.where(df[\"profession\"].isin(eng),1,0 )\n",
    "df[\"Medical\"]=np.where(df[\"profession\"].isin(med),1,0 )\n",
    "df[\"Finance\"]=np.where(df[\"profession\"].isin(eco),1,0 )\n",
    "df[\"Arts\"]=np.where(df[\"profession\"].isin(art),1,0 )\n",
    "df[\"Government\"]=np.where(df[\"profession\"].isin(govt),1,0 )\n",
    "df[\"Others\"]=np.where(df[\"profession\"].isin(others),1,0 )\n",
    "df[\"Defence\"]=np.where(df[\"profession\"].isin(sol),1,0 )"
   ]
  },
  {
   "cell_type": "code",
   "execution_count": 14,
   "id": "6c757293",
   "metadata": {},
   "outputs": [
    {
     "data": {
      "text/html": [
       "<div>\n",
       "<style scoped>\n",
       "    .dataframe tbody tr th:only-of-type {\n",
       "        vertical-align: middle;\n",
       "    }\n",
       "\n",
       "    .dataframe tbody tr th {\n",
       "        vertical-align: top;\n",
       "    }\n",
       "\n",
       "    .dataframe thead th {\n",
       "        text-align: right;\n",
       "    }\n",
       "</style>\n",
       "<table border=\"1\" class=\"dataframe\">\n",
       "  <thead>\n",
       "    <tr style=\"text-align: right;\">\n",
       "      <th></th>\n",
       "      <th>income</th>\n",
       "      <th>age</th>\n",
       "      <th>experience</th>\n",
       "      <th>married</th>\n",
       "      <th>house_ownership</th>\n",
       "      <th>car_ownership</th>\n",
       "      <th>profession</th>\n",
       "      <th>current_job_years</th>\n",
       "      <th>current_house_years</th>\n",
       "      <th>risk_flag</th>\n",
       "      <th>computer_science</th>\n",
       "      <th>Engineering</th>\n",
       "      <th>Medical</th>\n",
       "      <th>Finance</th>\n",
       "      <th>Arts</th>\n",
       "      <th>Government</th>\n",
       "      <th>Others</th>\n",
       "      <th>Defence</th>\n",
       "    </tr>\n",
       "  </thead>\n",
       "  <tbody>\n",
       "    <tr>\n",
       "      <th>0</th>\n",
       "      <td>9961107</td>\n",
       "      <td>33</td>\n",
       "      <td>15</td>\n",
       "      <td>0</td>\n",
       "      <td>1</td>\n",
       "      <td>1</td>\n",
       "      <td>Surveyor</td>\n",
       "      <td>11</td>\n",
       "      <td>14</td>\n",
       "      <td>0</td>\n",
       "      <td>0</td>\n",
       "      <td>0</td>\n",
       "      <td>0</td>\n",
       "      <td>0</td>\n",
       "      <td>0</td>\n",
       "      <td>1</td>\n",
       "      <td>0</td>\n",
       "      <td>0</td>\n",
       "    </tr>\n",
       "    <tr>\n",
       "      <th>1</th>\n",
       "      <td>4098399</td>\n",
       "      <td>79</td>\n",
       "      <td>15</td>\n",
       "      <td>0</td>\n",
       "      <td>1</td>\n",
       "      <td>0</td>\n",
       "      <td>Computer_hardware_engineer</td>\n",
       "      <td>10</td>\n",
       "      <td>12</td>\n",
       "      <td>0</td>\n",
       "      <td>1</td>\n",
       "      <td>0</td>\n",
       "      <td>0</td>\n",
       "      <td>0</td>\n",
       "      <td>0</td>\n",
       "      <td>0</td>\n",
       "      <td>0</td>\n",
       "      <td>0</td>\n",
       "    </tr>\n",
       "    <tr>\n",
       "      <th>2</th>\n",
       "      <td>990478</td>\n",
       "      <td>26</td>\n",
       "      <td>15</td>\n",
       "      <td>0</td>\n",
       "      <td>0</td>\n",
       "      <td>0</td>\n",
       "      <td>Geologist</td>\n",
       "      <td>5</td>\n",
       "      <td>13</td>\n",
       "      <td>0</td>\n",
       "      <td>0</td>\n",
       "      <td>0</td>\n",
       "      <td>0</td>\n",
       "      <td>0</td>\n",
       "      <td>0</td>\n",
       "      <td>0</td>\n",
       "      <td>1</td>\n",
       "      <td>0</td>\n",
       "    </tr>\n",
       "    <tr>\n",
       "      <th>3</th>\n",
       "      <td>9571049</td>\n",
       "      <td>43</td>\n",
       "      <td>8</td>\n",
       "      <td>0</td>\n",
       "      <td>1</td>\n",
       "      <td>1</td>\n",
       "      <td>Librarian</td>\n",
       "      <td>8</td>\n",
       "      <td>11</td>\n",
       "      <td>0</td>\n",
       "      <td>0</td>\n",
       "      <td>0</td>\n",
       "      <td>0</td>\n",
       "      <td>0</td>\n",
       "      <td>0</td>\n",
       "      <td>0</td>\n",
       "      <td>1</td>\n",
       "      <td>0</td>\n",
       "    </tr>\n",
       "    <tr>\n",
       "      <th>4</th>\n",
       "      <td>7790773</td>\n",
       "      <td>40</td>\n",
       "      <td>10</td>\n",
       "      <td>1</td>\n",
       "      <td>1</td>\n",
       "      <td>1</td>\n",
       "      <td>Software_Developer</td>\n",
       "      <td>9</td>\n",
       "      <td>12</td>\n",
       "      <td>1</td>\n",
       "      <td>1</td>\n",
       "      <td>0</td>\n",
       "      <td>0</td>\n",
       "      <td>0</td>\n",
       "      <td>0</td>\n",
       "      <td>0</td>\n",
       "      <td>0</td>\n",
       "      <td>0</td>\n",
       "    </tr>\n",
       "  </tbody>\n",
       "</table>\n",
       "</div>"
      ],
      "text/plain": [
       "    income  age  experience  married  house_ownership  car_ownership  \\\n",
       "0  9961107   33          15        0                1              1   \n",
       "1  4098399   79          15        0                1              0   \n",
       "2   990478   26          15        0                0              0   \n",
       "3  9571049   43           8        0                1              1   \n",
       "4  7790773   40          10        1                1              1   \n",
       "\n",
       "                   profession  current_job_years  current_house_years  \\\n",
       "0                    Surveyor                 11                   14   \n",
       "1  Computer_hardware_engineer                 10                   12   \n",
       "2                   Geologist                  5                   13   \n",
       "3                   Librarian                  8                   11   \n",
       "4          Software_Developer                  9                   12   \n",
       "\n",
       "   risk_flag  computer_science  Engineering  Medical  Finance  Arts  \\\n",
       "0          0                 0            0        0        0     0   \n",
       "1          0                 1            0        0        0     0   \n",
       "2          0                 0            0        0        0     0   \n",
       "3          0                 0            0        0        0     0   \n",
       "4          1                 1            0        0        0     0   \n",
       "\n",
       "   Government  Others  Defence  \n",
       "0           1       0        0  \n",
       "1           0       0        0  \n",
       "2           0       1        0  \n",
       "3           0       1        0  \n",
       "4           0       0        0  "
      ]
     },
     "execution_count": 14,
     "metadata": {},
     "output_type": "execute_result"
    }
   ],
   "source": [
    "df.head()"
   ]
  },
  {
   "cell_type": "code",
   "execution_count": 15,
   "id": "52445479",
   "metadata": {},
   "outputs": [
    {
     "data": {
      "text/plain": [
       "20000"
      ]
     },
     "execution_count": 15,
     "metadata": {},
     "output_type": "execute_result"
    }
   ],
   "source": [
    "(df[\"computer_science\"]+df[\"Engineering\"]+df[\"Medical\"]+df[\"Arts\"]+df[\"Government\"]+df[\"Others\"]+df[\"Finance\"]+df[\"Defence\"]).sum()"
   ]
  },
  {
   "cell_type": "code",
   "execution_count": 16,
   "id": "c43ffc14",
   "metadata": {},
   "outputs": [
    {
     "data": {
      "text/plain": [
       "51"
      ]
     },
     "execution_count": 16,
     "metadata": {},
     "output_type": "execute_result"
    }
   ],
   "source": [
    "len(df[\"profession\"].value_counts())"
   ]
  },
  {
   "cell_type": "code",
   "execution_count": 17,
   "id": "73826e28",
   "metadata": {},
   "outputs": [
    {
     "data": {
      "text/plain": [
       "<AxesSubplot:xlabel='income'>"
      ]
     },
     "execution_count": 17,
     "metadata": {},
     "output_type": "execute_result"
    },
    {
     "data": {
      "image/png": "[encoded data removed]",
      "text/plain": [
       "<Figure size 432x288 with 1 Axes>"
      ]
     },
     "metadata": {
      "needs_background": "light"
     },
     "output_type": "display_data"
    }
   ],
   "source": [
    "import seaborn as sns\n",
    "import matplotlib.pyplot as plt\n",
    "sns.boxplot(x='income',data=df)"
   ]
  },
  {
   "cell_type": "code",
   "execution_count": 18,
   "id": "b1f129dd",
   "metadata": {},
   "outputs": [
    {
     "data": {
      "text/plain": [
       "<AxesSubplot:>"
      ]
     },
     "execution_count": 18,
     "metadata": {},
     "output_type": "execute_result"
    },
    {
     "data": {
      "image/png": "[encoded data removed]",
      "text/plain": [
       "<Figure size 1152x648 with 2 Axes>"
      ]
     },
     "metadata": {
      "needs_background": "light"
     },
     "output_type": "display_data"
    }
   ],
   "source": [
    "plt.figure(figsize=(16,9))\n",
    "sns.heatmap(df.corr(),annot=True)"
   ]
  },
  {
   "cell_type": "code",
   "execution_count": 19,
   "id": "c41c7e74",
   "metadata": {},
   "outputs": [
    {
     "name": "stdout",
     "output_type": "stream",
     "text": [
      "6963857    10\n",
      "8724013    10\n",
      "3915449    10\n",
      "9013759     9\n",
      "2860021     9\n",
      "           ..\n",
      "6133287     1\n",
      "8565895     1\n",
      "4103658     1\n",
      "8955309     1\n",
      "4683990     1\n",
      "Name: income, Length: 8584, dtype: int64\n",
      "27    430\n",
      "41    413\n",
      "33    399\n",
      "66    397\n",
      "48    394\n",
      "50    386\n",
      "25    385\n",
      "45    381\n",
      "68    381\n",
      "78    379\n",
      "24    377\n",
      "54    377\n",
      "47    374\n",
      "23    373\n",
      "69    372\n",
      "56    367\n",
      "55    367\n",
      "35    366\n",
      "72    365\n",
      "79    365\n",
      "76    361\n",
      "53    351\n",
      "49    351\n",
      "26    349\n",
      "43    348\n",
      "60    345\n",
      "64    343\n",
      "31    341\n",
      "37    339\n",
      "58    337\n",
      "30    333\n",
      "71    332\n",
      "22    331\n",
      "61    330\n",
      "59    329\n",
      "28    328\n",
      "62    328\n",
      "57    323\n",
      "32    322\n",
      "38    320\n",
      "67    318\n",
      "39    318\n",
      "77    313\n",
      "74    313\n",
      "70    310\n",
      "40    310\n",
      "42    309\n",
      "65    305\n",
      "34    305\n",
      "29    304\n",
      "21    302\n",
      "63    298\n",
      "75    296\n",
      "44    293\n",
      "73    283\n",
      "46    277\n",
      "51    263\n",
      "52    257\n",
      "36    237\n",
      "Name: age, dtype: int64\n",
      "12    1088\n",
      "6     1074\n",
      "5     1022\n",
      "9     1008\n",
      "17    1006\n",
      "18     996\n",
      "10     990\n",
      "16     969\n",
      "14     963\n",
      "19     963\n",
      "3      945\n",
      "4      922\n",
      "11     915\n",
      "13     913\n",
      "2      909\n",
      "15     903\n",
      "7      890\n",
      "8      890\n",
      "0      885\n",
      "20     877\n",
      "1      872\n",
      "Name: experience, dtype: int64\n",
      "0    17965\n",
      "1     2035\n",
      "Name: married, dtype: int64\n",
      "1    18396\n",
      "2     1048\n",
      "0      556\n",
      "Name: house_ownership, dtype: int64\n",
      "0    13948\n",
      "1     6052\n",
      "Name: car_ownership, dtype: int64\n",
      "Physician                     489\n",
      "Statistician                  450\n",
      "Computer_hardware_engineer    448\n",
      "Graphic_Designer              442\n",
      "Web_designer                  438\n",
      "Chemical_engineer             435\n",
      "Air_traffic_controller        433\n",
      "Magistrate                    425\n",
      "Industrial_Engineer           423\n",
      "Flight_attendant              421\n",
      "Psychologist                  419\n",
      "Fashion_Designer              418\n",
      "Financial_Analyst             417\n",
      "Drafter                       415\n",
      "Secretary                     414\n",
      "Hotel_Manager                 409\n",
      "Computer_operator             407\n",
      "Artist                        407\n",
      "Police_officer                399\n",
      "Software_Developer            399\n",
      "Mechanical_engineer           396\n",
      "Scientist                     394\n",
      "Surveyor                      394\n",
      "Comedian                      391\n",
      "Design_Engineer               390\n",
      "Lawyer                        390\n",
      "Geologist                     386\n",
      "Analyst                       385\n",
      "Consultant                    382\n",
      "Technical_writer              382\n",
      "Politician                    381\n",
      "Surgeon                       381\n",
      "Technology_specialist         380\n",
      "Biomedical_Engineer           378\n",
      "Architect                     375\n",
      "Army_officer                  375\n",
      "Dentist                       374\n",
      "Aviator                       371\n",
      "Petroleum_Engineer            370\n",
      "Microbiologist                367\n",
      "Librarian                     367\n",
      "Civil_engineer                366\n",
      "Chef                          365\n",
      "Designer                      359\n",
      "Chartered_Accountant          358\n",
      "Technician                    358\n",
      "Economist                     354\n",
      "Firefighter                   349\n",
      "Civil_servant                 329\n",
      "Engineer                      329\n",
      "Official                      316\n",
      "Name: profession, dtype: int64\n",
      "3     2328\n",
      "4     2259\n",
      "5     2044\n",
      "6     1911\n",
      "7     1595\n",
      "8     1397\n",
      "9     1336\n",
      "10    1245\n",
      "11    1082\n",
      "2      909\n",
      "0      885\n",
      "1      872\n",
      "12     842\n",
      "13     696\n",
      "14     599\n",
      "Name: current_job_years, dtype: int64\n",
      "11    4108\n",
      "13    4052\n",
      "12    3994\n",
      "14    3936\n",
      "10    3910\n",
      "Name: current_house_years, dtype: int64\n",
      "0    17530\n",
      "1     2470\n",
      "Name: risk_flag, dtype: int64\n",
      "0    18308\n",
      "1     1692\n",
      "Name: computer_science, dtype: int64\n",
      "0    16913\n",
      "1     3087\n",
      "Name: Engineering, dtype: int64\n",
      "0    17970\n",
      "1     2030\n",
      "Name: Medical, dtype: int64\n",
      "0    17654\n",
      "1     2346\n",
      "Name: Finance, dtype: int64\n",
      "0    17584\n",
      "1     2416\n",
      "Name: Arts, dtype: int64\n",
      "0    17338\n",
      "1     2662\n",
      "Name: Government, dtype: int64\n",
      "0    16160\n",
      "1     3840\n",
      "Name: Others, dtype: int64\n",
      "0    18073\n",
      "1     1927\n",
      "Name: Defence, dtype: int64\n"
     ]
    }
   ],
   "source": [
    "for i in df.columns:\n",
    "    print(df[i].value_counts())"
   ]
  },
  {
   "cell_type": "code",
   "execution_count": 20,
   "id": "610981b9",
   "metadata": {},
   "outputs": [
    {
     "data": {
      "text/html": [
       "<div>\n",
       "<style scoped>\n",
       "    .dataframe tbody tr th:only-of-type {\n",
       "        vertical-align: middle;\n",
       "    }\n",
       "\n",
       "    .dataframe tbody tr th {\n",
       "        vertical-align: top;\n",
       "    }\n",
       "\n",
       "    .dataframe thead th {\n",
       "        text-align: right;\n",
       "    }\n",
       "</style>\n",
       "<table border=\"1\" class=\"dataframe\">\n",
       "  <thead>\n",
       "    <tr style=\"text-align: right;\">\n",
       "      <th></th>\n",
       "      <th>income</th>\n",
       "      <th>age</th>\n",
       "      <th>experience</th>\n",
       "      <th>married</th>\n",
       "      <th>house_ownership</th>\n",
       "      <th>car_ownership</th>\n",
       "      <th>current_job_years</th>\n",
       "      <th>current_house_years</th>\n",
       "      <th>risk_flag</th>\n",
       "      <th>computer_science</th>\n",
       "      <th>Engineering</th>\n",
       "      <th>Medical</th>\n",
       "      <th>Finance</th>\n",
       "      <th>Arts</th>\n",
       "      <th>Government</th>\n",
       "      <th>Others</th>\n",
       "      <th>Defence</th>\n",
       "    </tr>\n",
       "  </thead>\n",
       "  <tbody>\n",
       "    <tr>\n",
       "      <th>count</th>\n",
       "      <td>2.000000e+04</td>\n",
       "      <td>20000.000000</td>\n",
       "      <td>20000.000000</td>\n",
       "      <td>20000.000000</td>\n",
       "      <td>20000.000000</td>\n",
       "      <td>20000.000000</td>\n",
       "      <td>20000.000000</td>\n",
       "      <td>20000.000000</td>\n",
       "      <td>20000.000000</td>\n",
       "      <td>20000.000000</td>\n",
       "      <td>20000.000000</td>\n",
       "      <td>20000.000000</td>\n",
       "      <td>20000.000000</td>\n",
       "      <td>20000.000000</td>\n",
       "      <td>20000.000000</td>\n",
       "      <td>20000.000000</td>\n",
       "      <td>20000.000000</td>\n",
       "    </tr>\n",
       "    <tr>\n",
       "      <th>mean</th>\n",
       "      <td>4.998404e+06</td>\n",
       "      <td>49.880150</td>\n",
       "      <td>10.073850</td>\n",
       "      <td>0.101750</td>\n",
       "      <td>1.024600</td>\n",
       "      <td>0.302600</td>\n",
       "      <td>6.332550</td>\n",
       "      <td>11.999800</td>\n",
       "      <td>0.123500</td>\n",
       "      <td>0.084600</td>\n",
       "      <td>0.154350</td>\n",
       "      <td>0.101500</td>\n",
       "      <td>0.117300</td>\n",
       "      <td>0.120800</td>\n",
       "      <td>0.133100</td>\n",
       "      <td>0.192000</td>\n",
       "      <td>0.096350</td>\n",
       "    </tr>\n",
       "    <tr>\n",
       "      <th>std</th>\n",
       "      <td>2.888663e+06</td>\n",
       "      <td>17.106119</td>\n",
       "      <td>5.988054</td>\n",
       "      <td>0.302327</td>\n",
       "      <td>0.282133</td>\n",
       "      <td>0.459395</td>\n",
       "      <td>3.653536</td>\n",
       "      <td>1.406165</td>\n",
       "      <td>0.329018</td>\n",
       "      <td>0.278292</td>\n",
       "      <td>0.361293</td>\n",
       "      <td>0.301997</td>\n",
       "      <td>0.321785</td>\n",
       "      <td>0.325903</td>\n",
       "      <td>0.339691</td>\n",
       "      <td>0.393883</td>\n",
       "      <td>0.295078</td>\n",
       "    </tr>\n",
       "    <tr>\n",
       "      <th>min</th>\n",
       "      <td>1.031000e+04</td>\n",
       "      <td>21.000000</td>\n",
       "      <td>0.000000</td>\n",
       "      <td>0.000000</td>\n",
       "      <td>0.000000</td>\n",
       "      <td>0.000000</td>\n",
       "      <td>0.000000</td>\n",
       "      <td>10.000000</td>\n",
       "      <td>0.000000</td>\n",
       "      <td>0.000000</td>\n",
       "      <td>0.000000</td>\n",
       "      <td>0.000000</td>\n",
       "      <td>0.000000</td>\n",
       "      <td>0.000000</td>\n",
       "      <td>0.000000</td>\n",
       "      <td>0.000000</td>\n",
       "      <td>0.000000</td>\n",
       "    </tr>\n",
       "    <tr>\n",
       "      <th>25%</th>\n",
       "      <td>2.487718e+06</td>\n",
       "      <td>35.000000</td>\n",
       "      <td>5.000000</td>\n",
       "      <td>0.000000</td>\n",
       "      <td>1.000000</td>\n",
       "      <td>0.000000</td>\n",
       "      <td>4.000000</td>\n",
       "      <td>11.000000</td>\n",
       "      <td>0.000000</td>\n",
       "      <td>0.000000</td>\n",
       "      <td>0.000000</td>\n",
       "      <td>0.000000</td>\n",
       "      <td>0.000000</td>\n",
       "      <td>0.000000</td>\n",
       "      <td>0.000000</td>\n",
       "      <td>0.000000</td>\n",
       "      <td>0.000000</td>\n",
       "    </tr>\n",
       "    <tr>\n",
       "      <th>50%</th>\n",
       "      <td>4.995311e+06</td>\n",
       "      <td>50.000000</td>\n",
       "      <td>10.000000</td>\n",
       "      <td>0.000000</td>\n",
       "      <td>1.000000</td>\n",
       "      <td>0.000000</td>\n",
       "      <td>6.000000</td>\n",
       "      <td>12.000000</td>\n",
       "      <td>0.000000</td>\n",
       "      <td>0.000000</td>\n",
       "      <td>0.000000</td>\n",
       "      <td>0.000000</td>\n",
       "      <td>0.000000</td>\n",
       "      <td>0.000000</td>\n",
       "      <td>0.000000</td>\n",
       "      <td>0.000000</td>\n",
       "      <td>0.000000</td>\n",
       "    </tr>\n",
       "    <tr>\n",
       "      <th>75%</th>\n",
       "      <td>7.492021e+06</td>\n",
       "      <td>65.000000</td>\n",
       "      <td>15.000000</td>\n",
       "      <td>0.000000</td>\n",
       "      <td>1.000000</td>\n",
       "      <td>1.000000</td>\n",
       "      <td>9.000000</td>\n",
       "      <td>13.000000</td>\n",
       "      <td>0.000000</td>\n",
       "      <td>0.000000</td>\n",
       "      <td>0.000000</td>\n",
       "      <td>0.000000</td>\n",
       "      <td>0.000000</td>\n",
       "      <td>0.000000</td>\n",
       "      <td>0.000000</td>\n",
       "      <td>0.000000</td>\n",
       "      <td>0.000000</td>\n",
       "    </tr>\n",
       "    <tr>\n",
       "      <th>max</th>\n",
       "      <td>9.999400e+06</td>\n",
       "      <td>79.000000</td>\n",
       "      <td>20.000000</td>\n",
       "      <td>1.000000</td>\n",
       "      <td>2.000000</td>\n",
       "      <td>1.000000</td>\n",
       "      <td>14.000000</td>\n",
       "      <td>14.000000</td>\n",
       "      <td>1.000000</td>\n",
       "      <td>1.000000</td>\n",
       "      <td>1.000000</td>\n",
       "      <td>1.000000</td>\n",
       "      <td>1.000000</td>\n",
       "      <td>1.000000</td>\n",
       "      <td>1.000000</td>\n",
       "      <td>1.000000</td>\n",
       "      <td>1.000000</td>\n",
       "    </tr>\n",
       "  </tbody>\n",
       "</table>\n",
       "</div>"
      ],
      "text/plain": [
       "             income           age    experience       married  \\\n",
       "count  2.000000e+04  20000.000000  20000.000000  20000.000000   \n",
       "mean   4.998404e+06     49.880150     10.073850      0.101750   \n",
       "std    2.888663e+06     17.106119      5.988054      0.302327   \n",
       "min    1.031000e+04     21.000000      0.000000      0.000000   \n",
       "25%    2.487718e+06     35.000000      5.000000      0.000000   \n",
       "50%    4.995311e+06     50.000000     10.000000      0.000000   \n",
       "75%    7.492021e+06     65.000000     15.000000      0.000000   \n",
       "max    9.999400e+06     79.000000     20.000000      1.000000   \n",
       "\n",
       "       house_ownership  car_ownership  current_job_years  current_house_years  \\\n",
       "count     20000.000000   20000.000000       20000.000000         20000.000000   \n",
       "mean          1.024600       0.302600           6.332550            11.999800   \n",
       "std           0.282133       0.459395           3.653536             1.406165   \n",
       "min           0.000000       0.000000           0.000000            10.000000   \n",
       "25%           1.000000       0.000000           4.000000            11.000000   \n",
       "50%           1.000000       0.000000           6.000000            12.000000   \n",
       "75%           1.000000       1.000000           9.000000            13.000000   \n",
       "max           2.000000       1.000000          14.000000            14.000000   \n",
       "\n",
       "          risk_flag  computer_science   Engineering       Medical  \\\n",
       "count  20000.000000      20000.000000  20000.000000  20000.000000   \n",
       "mean       0.123500          0.084600      0.154350      0.101500   \n",
       "std        0.329018          0.278292      0.361293      0.301997   \n",
       "min        0.000000          0.000000      0.000000      0.000000   \n",
       "25%        0.000000          0.000000      0.000000      0.000000   \n",
       "50%        0.000000          0.000000      0.000000      0.000000   \n",
       "75%        0.000000          0.000000      0.000000      0.000000   \n",
       "max        1.000000          1.000000      1.000000      1.000000   \n",
       "\n",
       "            Finance          Arts    Government        Others       Defence  \n",
       "count  20000.000000  20000.000000  20000.000000  20000.000000  20000.000000  \n",
       "mean       0.117300      0.120800      0.133100      0.192000      0.096350  \n",
       "std        0.321785      0.325903      0.339691      0.393883      0.295078  \n",
       "min        0.000000      0.000000      0.000000      0.000000      0.000000  \n",
       "25%        0.000000      0.000000      0.000000      0.000000      0.000000  \n",
       "50%        0.000000      0.000000      0.000000      0.000000      0.000000  \n",
       "75%        0.000000      0.000000      0.000000      0.000000      0.000000  \n",
       "max        1.000000      1.000000      1.000000      1.000000      1.000000  "
      ]
     },
     "execution_count": 20,
     "metadata": {},
     "output_type": "execute_result"
    }
   ],
   "source": [
    "df.describe()"
   ]
  },
  {
   "cell_type": "code",
   "execution_count": 21,
   "id": "20272063",
   "metadata": {},
   "outputs": [
    {
     "data": {
      "text/plain": [
       "<AxesSubplot:xlabel='age'>"
      ]
     },
     "execution_count": 21,
     "metadata": {},
     "output_type": "execute_result"
    },
    {
     "data": {
      "image/png": "[encoded data removed]",
      "text/plain": [
       "<Figure size 432x288 with 1 Axes>"
      ]
     },
     "metadata": {
      "needs_background": "light"
     },
     "output_type": "display_data"
    }
   ],
   "source": [
    "sns.boxplot(x='age',data=df)"
   ]
  },
  {
   "cell_type": "code",
   "execution_count": 22,
   "id": "e1c398c5",
   "metadata": {},
   "outputs": [
    {
     "data": {
      "text/plain": [
       "<AxesSubplot:xlabel='experience'>"
      ]
     },
     "execution_count": 22,
     "metadata": {},
     "output_type": "execute_result"
    },
    {
     "data": {
      "image/png": "[encoded data removed]",
      "text/plain": [
       "<Figure size 432x288 with 1 Axes>"
      ]
     },
     "metadata": {
      "needs_background": "light"
     },
     "output_type": "display_data"
    }
   ],
   "source": [
    "sns.boxplot(x='experience',data=df)"
   ]
  },
  {
   "cell_type": "code",
   "execution_count": 23,
   "id": "64c383b4",
   "metadata": {},
   "outputs": [
    {
     "data": {
      "text/plain": [
       "<AxesSubplot:xlabel='current_job_years'>"
      ]
     },
     "execution_count": 23,
     "metadata": {},
     "output_type": "execute_result"
    },
    {
     "data": {
      "image/png": "[encoded data removed]",
      "text/plain": [
       "<Figure size 432x288 with 1 Axes>"
      ]
     },
     "metadata": {
      "needs_background": "light"
     },
     "output_type": "display_data"
    }
   ],
   "source": [
    "sns.boxplot(x='current_job_years',data=df)"
   ]
  },
  {
   "cell_type": "code",
   "execution_count": 24,
   "id": "13a03f55",
   "metadata": {},
   "outputs": [
    {
     "data": {
      "text/plain": [
       "<AxesSubplot:xlabel='current_house_years'>"
      ]
     },
     "execution_count": 24,
     "metadata": {},
     "output_type": "execute_result"
    },
    {
     "data": {
      "image/png": "[encoded data removed]",
      "text/plain": [
       "<Figure size 432x288 with 1 Axes>"
      ]
     },
     "metadata": {
      "needs_background": "light"
     },
     "output_type": "display_data"
    }
   ],
   "source": [
    "sns.boxplot(x='current_house_years',data=df)"
   ]
  },
  {
   "cell_type": "code",
   "execution_count": 25,
   "id": "e357f0af",
   "metadata": {},
   "outputs": [
    {
     "data": {
      "text/plain": [
       "<AxesSubplot:xlabel='age', ylabel='income'>"
      ]
     },
     "execution_count": 25,
     "metadata": {},
     "output_type": "execute_result"
    },
    {
     "data": {
      "image/png": "[encoded data removed]",
      "text/plain": [
       "<Figure size 432x288 with 1 Axes>"
      ]
     },
     "metadata": {
      "needs_background": "light"
     },
     "output_type": "display_data"
    }
   ],
   "source": [
    "sns.lineplot(x='age',y='income',data=df)"
   ]
  },
  {
   "cell_type": "code",
   "execution_count": 26,
   "id": "d6e8738b",
   "metadata": {},
   "outputs": [
    {
     "data": {
      "text/html": [
       "<div>\n",
       "<style scoped>\n",
       "    .dataframe tbody tr th:only-of-type {\n",
       "        vertical-align: middle;\n",
       "    }\n",
       "\n",
       "    .dataframe tbody tr th {\n",
       "        vertical-align: top;\n",
       "    }\n",
       "\n",
       "    .dataframe thead th {\n",
       "        text-align: right;\n",
       "    }\n",
       "</style>\n",
       "<table border=\"1\" class=\"dataframe\">\n",
       "  <thead>\n",
       "    <tr style=\"text-align: right;\">\n",
       "      <th></th>\n",
       "      <th>income</th>\n",
       "      <th>age</th>\n",
       "      <th>experience</th>\n",
       "      <th>married</th>\n",
       "      <th>house_ownership</th>\n",
       "      <th>car_ownership</th>\n",
       "      <th>current_job_years</th>\n",
       "      <th>current_house_years</th>\n",
       "      <th>risk_flag</th>\n",
       "      <th>computer_science</th>\n",
       "      <th>Engineering</th>\n",
       "      <th>Medical</th>\n",
       "      <th>Finance</th>\n",
       "      <th>Arts</th>\n",
       "      <th>Government</th>\n",
       "      <th>Others</th>\n",
       "      <th>Defence</th>\n",
       "    </tr>\n",
       "  </thead>\n",
       "  <tbody>\n",
       "    <tr>\n",
       "      <th>count</th>\n",
       "      <td>2.662000e+03</td>\n",
       "      <td>2662.000000</td>\n",
       "      <td>2662.000000</td>\n",
       "      <td>2662.000000</td>\n",
       "      <td>2662.000000</td>\n",
       "      <td>2662.000000</td>\n",
       "      <td>2662.000000</td>\n",
       "      <td>2662.000000</td>\n",
       "      <td>2662.000000</td>\n",
       "      <td>2662.0</td>\n",
       "      <td>2662.0</td>\n",
       "      <td>2662.0</td>\n",
       "      <td>2662.0</td>\n",
       "      <td>2662.0</td>\n",
       "      <td>2662.0</td>\n",
       "      <td>2662.0</td>\n",
       "      <td>2662.0</td>\n",
       "    </tr>\n",
       "    <tr>\n",
       "      <th>mean</th>\n",
       "      <td>5.094681e+06</td>\n",
       "      <td>49.640120</td>\n",
       "      <td>10.291134</td>\n",
       "      <td>0.100676</td>\n",
       "      <td>1.035312</td>\n",
       "      <td>0.285875</td>\n",
       "      <td>6.504508</td>\n",
       "      <td>11.957551</td>\n",
       "      <td>0.137491</td>\n",
       "      <td>0.0</td>\n",
       "      <td>0.0</td>\n",
       "      <td>0.0</td>\n",
       "      <td>0.0</td>\n",
       "      <td>0.0</td>\n",
       "      <td>1.0</td>\n",
       "      <td>0.0</td>\n",
       "      <td>0.0</td>\n",
       "    </tr>\n",
       "    <tr>\n",
       "      <th>std</th>\n",
       "      <td>2.901531e+06</td>\n",
       "      <td>17.150189</td>\n",
       "      <td>5.886416</td>\n",
       "      <td>0.300956</td>\n",
       "      <td>0.278694</td>\n",
       "      <td>0.451915</td>\n",
       "      <td>3.612759</td>\n",
       "      <td>1.410516</td>\n",
       "      <td>0.344429</td>\n",
       "      <td>0.0</td>\n",
       "      <td>0.0</td>\n",
       "      <td>0.0</td>\n",
       "      <td>0.0</td>\n",
       "      <td>0.0</td>\n",
       "      <td>0.0</td>\n",
       "      <td>0.0</td>\n",
       "      <td>0.0</td>\n",
       "    </tr>\n",
       "    <tr>\n",
       "      <th>min</th>\n",
       "      <td>1.111400e+04</td>\n",
       "      <td>21.000000</td>\n",
       "      <td>0.000000</td>\n",
       "      <td>0.000000</td>\n",
       "      <td>0.000000</td>\n",
       "      <td>0.000000</td>\n",
       "      <td>0.000000</td>\n",
       "      <td>10.000000</td>\n",
       "      <td>0.000000</td>\n",
       "      <td>0.0</td>\n",
       "      <td>0.0</td>\n",
       "      <td>0.0</td>\n",
       "      <td>0.0</td>\n",
       "      <td>0.0</td>\n",
       "      <td>1.0</td>\n",
       "      <td>0.0</td>\n",
       "      <td>0.0</td>\n",
       "    </tr>\n",
       "    <tr>\n",
       "      <th>25%</th>\n",
       "      <td>2.561042e+06</td>\n",
       "      <td>34.000000</td>\n",
       "      <td>5.000000</td>\n",
       "      <td>0.000000</td>\n",
       "      <td>1.000000</td>\n",
       "      <td>0.000000</td>\n",
       "      <td>4.000000</td>\n",
       "      <td>11.000000</td>\n",
       "      <td>0.000000</td>\n",
       "      <td>0.0</td>\n",
       "      <td>0.0</td>\n",
       "      <td>0.0</td>\n",
       "      <td>0.0</td>\n",
       "      <td>0.0</td>\n",
       "      <td>1.0</td>\n",
       "      <td>0.0</td>\n",
       "      <td>0.0</td>\n",
       "    </tr>\n",
       "    <tr>\n",
       "      <th>50%</th>\n",
       "      <td>5.154501e+06</td>\n",
       "      <td>50.000000</td>\n",
       "      <td>11.000000</td>\n",
       "      <td>0.000000</td>\n",
       "      <td>1.000000</td>\n",
       "      <td>0.000000</td>\n",
       "      <td>6.000000</td>\n",
       "      <td>12.000000</td>\n",
       "      <td>0.000000</td>\n",
       "      <td>0.0</td>\n",
       "      <td>0.0</td>\n",
       "      <td>0.0</td>\n",
       "      <td>0.0</td>\n",
       "      <td>0.0</td>\n",
       "      <td>1.0</td>\n",
       "      <td>0.0</td>\n",
       "      <td>0.0</td>\n",
       "    </tr>\n",
       "    <tr>\n",
       "      <th>75%</th>\n",
       "      <td>7.644982e+06</td>\n",
       "      <td>64.000000</td>\n",
       "      <td>15.000000</td>\n",
       "      <td>0.000000</td>\n",
       "      <td>1.000000</td>\n",
       "      <td>1.000000</td>\n",
       "      <td>9.000000</td>\n",
       "      <td>13.000000</td>\n",
       "      <td>0.000000</td>\n",
       "      <td>0.0</td>\n",
       "      <td>0.0</td>\n",
       "      <td>0.0</td>\n",
       "      <td>0.0</td>\n",
       "      <td>0.0</td>\n",
       "      <td>1.0</td>\n",
       "      <td>0.0</td>\n",
       "      <td>0.0</td>\n",
       "    </tr>\n",
       "    <tr>\n",
       "      <th>max</th>\n",
       "      <td>9.998070e+06</td>\n",
       "      <td>79.000000</td>\n",
       "      <td>20.000000</td>\n",
       "      <td>1.000000</td>\n",
       "      <td>2.000000</td>\n",
       "      <td>1.000000</td>\n",
       "      <td>14.000000</td>\n",
       "      <td>14.000000</td>\n",
       "      <td>1.000000</td>\n",
       "      <td>0.0</td>\n",
       "      <td>0.0</td>\n",
       "      <td>0.0</td>\n",
       "      <td>0.0</td>\n",
       "      <td>0.0</td>\n",
       "      <td>1.0</td>\n",
       "      <td>0.0</td>\n",
       "      <td>0.0</td>\n",
       "    </tr>\n",
       "  </tbody>\n",
       "</table>\n",
       "</div>"
      ],
      "text/plain": [
       "             income          age   experience      married  house_ownership  \\\n",
       "count  2.662000e+03  2662.000000  2662.000000  2662.000000      2662.000000   \n",
       "mean   5.094681e+06    49.640120    10.291134     0.100676         1.035312   \n",
       "std    2.901531e+06    17.150189     5.886416     0.300956         0.278694   \n",
       "min    1.111400e+04    21.000000     0.000000     0.000000         0.000000   \n",
       "25%    2.561042e+06    34.000000     5.000000     0.000000         1.000000   \n",
       "50%    5.154501e+06    50.000000    11.000000     0.000000         1.000000   \n",
       "75%    7.644982e+06    64.000000    15.000000     0.000000         1.000000   \n",
       "max    9.998070e+06    79.000000    20.000000     1.000000         2.000000   \n",
       "\n",
       "       car_ownership  current_job_years  current_house_years    risk_flag  \\\n",
       "count    2662.000000        2662.000000          2662.000000  2662.000000   \n",
       "mean        0.285875           6.504508            11.957551     0.137491   \n",
       "std         0.451915           3.612759             1.410516     0.344429   \n",
       "min         0.000000           0.000000            10.000000     0.000000   \n",
       "25%         0.000000           4.000000            11.000000     0.000000   \n",
       "50%         0.000000           6.000000            12.000000     0.000000   \n",
       "75%         1.000000           9.000000            13.000000     0.000000   \n",
       "max         1.000000          14.000000            14.000000     1.000000   \n",
       "\n",
       "       computer_science  Engineering  Medical  Finance    Arts  Government  \\\n",
       "count            2662.0       2662.0   2662.0   2662.0  2662.0      2662.0   \n",
       "mean                0.0          0.0      0.0      0.0     0.0         1.0   \n",
       "std                 0.0          0.0      0.0      0.0     0.0         0.0   \n",
       "min                 0.0          0.0      0.0      0.0     0.0         1.0   \n",
       "25%                 0.0          0.0      0.0      0.0     0.0         1.0   \n",
       "50%                 0.0          0.0      0.0      0.0     0.0         1.0   \n",
       "75%                 0.0          0.0      0.0      0.0     0.0         1.0   \n",
       "max                 0.0          0.0      0.0      0.0     0.0         1.0   \n",
       "\n",
       "       Others  Defence  \n",
       "count  2662.0   2662.0  \n",
       "mean      0.0      0.0  \n",
       "std       0.0      0.0  \n",
       "min       0.0      0.0  \n",
       "25%       0.0      0.0  \n",
       "50%       0.0      0.0  \n",
       "75%       0.0      0.0  \n",
       "max       0.0      0.0  "
      ]
     },
     "execution_count": 26,
     "metadata": {},
     "output_type": "execute_result"
    }
   ],
   "source": [
    "df[df['Government']==1].describe()"
   ]
  },
  {
   "cell_type": "code",
   "execution_count": 27,
   "id": "7b7f710f",
   "metadata": {},
   "outputs": [],
   "source": [
    "x=df.drop(columns=['profession','risk_flag'])\n",
    "y=df['risk_flag']"
   ]
  },
  {
   "cell_type": "code",
   "execution_count": 28,
   "id": "6eae74e4",
   "metadata": {},
   "outputs": [],
   "source": [
    "from imblearn.over_sampling import SMOTE"
   ]
  },
  {
   "cell_type": "code",
   "execution_count": 29,
   "id": "ff87d7db",
   "metadata": {},
   "outputs": [],
   "source": [
    "smote=SMOTE(sampling_strategy={1:6000},random_state=42)"
   ]
  },
  {
   "cell_type": "code",
   "execution_count": 30,
   "id": "80a409f4",
   "metadata": {},
   "outputs": [],
   "source": [
    "x1,y1=smote.fit_sample(x,y)"
   ]
  },
  {
   "cell_type": "code",
   "execution_count": 31,
   "id": "75f0d00a",
   "metadata": {},
   "outputs": [
    {
     "data": {
      "text/plain": [
       "0    17530\n",
       "1     6000\n",
       "Name: risk_flag, dtype: int64"
      ]
     },
     "execution_count": 31,
     "metadata": {},
     "output_type": "execute_result"
    }
   ],
   "source": [
    "y1.value_counts()"
   ]
  },
  {
   "cell_type": "code",
   "execution_count": 32,
   "id": "4996cec5",
   "metadata": {},
   "outputs": [
    {
     "data": {
      "text/plain": [
       "(5177, 16)"
      ]
     },
     "execution_count": 32,
     "metadata": {},
     "output_type": "execute_result"
    }
   ],
   "source": [
    "from sklearn.model_selection import train_test_split\n",
    "x_train,x_test,y_train,y_test=train_test_split(x1,y1,test_size=0.22,random_state=42)\n",
    "x_test.shape"
   ]
  },
  {
   "cell_type": "code",
   "execution_count": 33,
   "id": "9b118c3a",
   "metadata": {},
   "outputs": [],
   "source": [
    "from sklearn.linear_model import LogisticRegression"
   ]
  },
  {
   "cell_type": "code",
   "execution_count": 34,
   "id": "342addac",
   "metadata": {},
   "outputs": [
    {
     "data": {
      "text/plain": [
       "0.7541046938381302"
      ]
     },
     "execution_count": 34,
     "metadata": {},
     "output_type": "execute_result"
    }
   ],
   "source": [
    "lr=LogisticRegression()\n",
    "lr.fit(x_train,y_train)\n",
    "lr.score(x_test,y_test)"
   ]
  },
  {
   "cell_type": "code",
   "execution_count": 35,
   "id": "37959d53",
   "metadata": {},
   "outputs": [
    {
     "data": {
      "text/plain": [
       "0    5177\n",
       "dtype: int64"
      ]
     },
     "execution_count": 35,
     "metadata": {},
     "output_type": "execute_result"
    }
   ],
   "source": [
    "pred=lr.predict(x_test)\n",
    "pd.DataFrame(pred).value_counts()"
   ]
  },
  {
   "cell_type": "code",
   "execution_count": 36,
   "id": "fcd3c53f",
   "metadata": {},
   "outputs": [
    {
     "data": {
      "text/plain": [
       "0.8898976241066254"
      ]
     },
     "execution_count": 36,
     "metadata": {},
     "output_type": "execute_result"
    }
   ],
   "source": [
    "from sklearn.tree import DecisionTreeClassifier\n",
    "dt=DecisionTreeClassifier(max_depth=30,random_state=42)\n",
    "dt.fit(x_train,y_train)\n",
    "dt.score(x_test,y_test)"
   ]
  },
  {
   "cell_type": "code",
   "execution_count": 37,
   "id": "211dac00",
   "metadata": {},
   "outputs": [
    {
     "data": {
      "text/plain": [
       "0    3878\n",
       "1    1299\n",
       "dtype: int64"
      ]
     },
     "execution_count": 37,
     "metadata": {},
     "output_type": "execute_result"
    }
   ],
   "source": [
    "pred=dt.predict(x_test)\n",
    "pd.DataFrame(pred).value_counts()"
   ]
  },
  {
   "cell_type": "code",
   "execution_count": 38,
   "id": "e785ac8c",
   "metadata": {},
   "outputs": [
    {
     "data": {
      "text/plain": [
       "0    3904\n",
       "1    1273\n",
       "Name: risk_flag, dtype: int64"
      ]
     },
     "execution_count": 38,
     "metadata": {},
     "output_type": "execute_result"
    }
   ],
   "source": [
    "y_test.value_counts()"
   ]
  },
  {
   "cell_type": "code",
   "execution_count": 39,
   "id": "aff13f0f",
   "metadata": {},
   "outputs": [
    {
     "data": {
      "text/plain": [
       "0.9105659648445046"
      ]
     },
     "execution_count": 39,
     "metadata": {},
     "output_type": "execute_result"
    }
   ],
   "source": [
    "from sklearn.ensemble import RandomForestClassifier\n",
    "rf=RandomForestClassifier(max_depth=30,n_estimators=150,random_state=56)\n",
    "rf.fit(x_train,y_train)\n",
    "rf.score(x_test,y_test)"
   ]
  },
  {
   "cell_type": "code",
   "execution_count": 40,
   "id": "c1c2aa19",
   "metadata": {},
   "outputs": [
    {
     "data": {
      "text/plain": [
       "0    4035\n",
       "1    1142\n",
       "dtype: int64"
      ]
     },
     "execution_count": 40,
     "metadata": {},
     "output_type": "execute_result"
    }
   ],
   "source": [
    "pred=rf.predict(x_test)\n",
    "pd.DataFrame(pred).value_counts()"
   ]
  },
  {
   "cell_type": "code",
   "execution_count": 41,
   "id": "a7ba5b09",
   "metadata": {},
   "outputs": [
    {
     "data": {
      "text/plain": [
       "0.8195866331852424"
      ]
     },
     "execution_count": 41,
     "metadata": {},
     "output_type": "execute_result"
    }
   ],
   "source": [
    "from sklearn.neighbors import KNeighborsClassifier\n",
    "knn=KNeighborsClassifier(n_neighbors=3)\n",
    "knn.fit(x_train,y_train)\n",
    "knn.score(x_test,y_test)"
   ]
  },
  {
   "cell_type": "code",
   "execution_count": 42,
   "id": "ff239ca1",
   "metadata": {},
   "outputs": [
    {
     "data": {
      "text/plain": [
       "0    4098\n",
       "1    1079\n",
       "dtype: int64"
      ]
     },
     "execution_count": 42,
     "metadata": {},
     "output_type": "execute_result"
    }
   ],
   "source": [
    "pred=knn.predict(x_test)\n",
    "pd.DataFrame(pred).value_counts()"
   ]
  },
  {
   "cell_type": "code",
   "execution_count": 43,
   "id": "79f8fb5e",
   "metadata": {},
   "outputs": [
    {
     "data": {
      "text/plain": [
       "0.7541046938381302"
      ]
     },
     "execution_count": 43,
     "metadata": {},
     "output_type": "execute_result"
    }
   ],
   "source": [
    "from sklearn.svm import SVC\n",
    "svm=SVC(kernel='poly')\n",
    "svm.fit(x_train,y_train)\n",
    "svm.score(x_test,y_test)"
   ]
  },
  {
   "cell_type": "code",
   "execution_count": 44,
   "id": "c2fb473b",
   "metadata": {},
   "outputs": [
    {
     "data": {
      "text/plain": [
       "0    5177\n",
       "dtype: int64"
      ]
     },
     "execution_count": 44,
     "metadata": {},
     "output_type": "execute_result"
    }
   ],
   "source": [
    "pred=svm.predict(x_test)\n",
    "pd.DataFrame(pred).value_counts()"
   ]
  },
  {
   "cell_type": "code",
   "execution_count": 45,
   "id": "3bb3f9d8",
   "metadata": {},
   "outputs": [
    {
     "data": {
      "text/plain": [
       "0.7541046938381302"
      ]
     },
     "execution_count": 45,
     "metadata": {},
     "output_type": "execute_result"
    }
   ],
   "source": [
    "from sklearn.naive_bayes import GaussianNB\n",
    "gnb=GaussianNB()\n",
    "gnb.fit(x_train,y_train)\n",
    "gnb.score(x_test,y_test)"
   ]
  },
  {
   "cell_type": "code",
   "execution_count": 46,
   "id": "b26e31bb",
   "metadata": {},
   "outputs": [],
   "source": [
    "import pickle\n",
    "pickle.dump(rf,open('rfmodel.pkl','wb'))"
   ]
  },
  {
   "cell_type": "code",
   "execution_count": null,
   "id": "2c3a82b3",
   "metadata": {},
   "outputs": [],
   "source": [
    "from"
   ]
  }
 ],
 "metadata": {
  "kernelspec": {
   "display_name": "Python 3 (ipykernel)",
   "language": "python",
   "name": "python3"
  },
  "language_info": {
   "codemirror_mode": {
    "name": "ipython",
    "version": 3
   },
   "file_extension": ".py",
   "mimetype": "text/x-python",
   "name": "python",
   "nbconvert_exporter": "python",
   "pygments_lexer": "ipython3",
   "version": "3.9.12"
  }
 },
 "nbformat": 4,
 "nbformat_minor": 5
}
